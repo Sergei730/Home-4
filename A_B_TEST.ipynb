{
  "cells": [
    {
      "cell_type": "markdown",
      "metadata": {
        "id": "view-in-github",
        "colab_type": "text"
      },
      "source": [
        "<a href=\"https://colab.research.google.com/github/Sergei730/Home-4/blob/main/A_B_TEST.ipynb\" target=\"_parent\"><img src=\"https://colab.research.google.com/assets/colab-badge.svg\" alt=\"Open In Colab\"/></a>"
      ]
    },
    {
      "cell_type": "markdown",
      "metadata": {
        "id": "3ENgZt8r1zv8"
      },
      "source": [
        "## Импорт библиотек"
      ]
    },
    {
      "cell_type": "code",
      "execution_count": 1,
      "metadata": {
        "id": "-AUEhQ-N1zv8"
      },
      "outputs": [],
      "source": [
        "import numpy as np\n",
        "import pandas as pd\n",
        "\n",
        "from scipy.stats import shapiro, mannwhitneyu\n",
        "\n",
        "import matplotlib.pyplot as plt\n",
        "import seaborn as sns\n",
        "sns.set_theme()"
      ]
    },
    {
      "cell_type": "markdown",
      "metadata": {
        "id": "FWoak3_r1zv9"
      },
      "source": [
        "## Импорт данных"
      ]
    },
    {
      "cell_type": "code",
      "execution_count": 2,
      "metadata": {
        "colab": {
          "base_uri": "https://localhost:8080/",
          "height": 286
        },
        "id": "Sg5psZjf1zv9",
        "outputId": "ededbe0c-d309-4986-f3b3-f77b482a2780"
      },
      "outputs": [
        {
          "output_type": "stream",
          "name": "stdout",
          "text": [
            "Размеры датасета (50000, 2)\n"
          ]
        },
        {
          "output_type": "execute_result",
          "data": {
            "text/plain": [
              "          group    metrica\n",
              "strata                    \n",
              "11      history  42.631346\n",
              "6       history  14.844453\n",
              "4       history   2.362768\n",
              "37      history  79.494017\n",
              "18      history -22.627788\n",
              "34      history  28.679378"
            ],
            "text/html": [
              "\n",
              "  <div id=\"df-20d8ca1e-a34f-4a74-bee7-0a8946cb3f64\" class=\"colab-df-container\">\n",
              "    <div>\n",
              "<style scoped>\n",
              "    .dataframe tbody tr th:only-of-type {\n",
              "        vertical-align: middle;\n",
              "    }\n",
              "\n",
              "    .dataframe tbody tr th {\n",
              "        vertical-align: top;\n",
              "    }\n",
              "\n",
              "    .dataframe thead th {\n",
              "        text-align: right;\n",
              "    }\n",
              "</style>\n",
              "<table border=\"1\" class=\"dataframe\">\n",
              "  <thead>\n",
              "    <tr style=\"text-align: right;\">\n",
              "      <th></th>\n",
              "      <th>group</th>\n",
              "      <th>metrica</th>\n",
              "    </tr>\n",
              "    <tr>\n",
              "      <th>strata</th>\n",
              "      <th></th>\n",
              "      <th></th>\n",
              "    </tr>\n",
              "  </thead>\n",
              "  <tbody>\n",
              "    <tr>\n",
              "      <th>11</th>\n",
              "      <td>history</td>\n",
              "      <td>42.631346</td>\n",
              "    </tr>\n",
              "    <tr>\n",
              "      <th>6</th>\n",
              "      <td>history</td>\n",
              "      <td>14.844453</td>\n",
              "    </tr>\n",
              "    <tr>\n",
              "      <th>4</th>\n",
              "      <td>history</td>\n",
              "      <td>2.362768</td>\n",
              "    </tr>\n",
              "    <tr>\n",
              "      <th>37</th>\n",
              "      <td>history</td>\n",
              "      <td>79.494017</td>\n",
              "    </tr>\n",
              "    <tr>\n",
              "      <th>18</th>\n",
              "      <td>history</td>\n",
              "      <td>-22.627788</td>\n",
              "    </tr>\n",
              "    <tr>\n",
              "      <th>34</th>\n",
              "      <td>history</td>\n",
              "      <td>28.679378</td>\n",
              "    </tr>\n",
              "  </tbody>\n",
              "</table>\n",
              "</div>\n",
              "    <div class=\"colab-df-buttons\">\n",
              "\n",
              "  <div class=\"colab-df-container\">\n",
              "    <button class=\"colab-df-convert\" onclick=\"convertToInteractive('df-20d8ca1e-a34f-4a74-bee7-0a8946cb3f64')\"\n",
              "            title=\"Convert this dataframe to an interactive table.\"\n",
              "            style=\"display:none;\">\n",
              "\n",
              "  <svg xmlns=\"http://www.w3.org/2000/svg\" height=\"24px\" viewBox=\"0 -960 960 960\">\n",
              "    <path d=\"M120-120v-720h720v720H120Zm60-500h600v-160H180v160Zm220 220h160v-160H400v160Zm0 220h160v-160H400v160ZM180-400h160v-160H180v160Zm440 0h160v-160H620v160ZM180-180h160v-160H180v160Zm440 0h160v-160H620v160Z\"/>\n",
              "  </svg>\n",
              "    </button>\n",
              "\n",
              "  <style>\n",
              "    .colab-df-container {\n",
              "      display:flex;\n",
              "      gap: 12px;\n",
              "    }\n",
              "\n",
              "    .colab-df-convert {\n",
              "      background-color: #E8F0FE;\n",
              "      border: none;\n",
              "      border-radius: 50%;\n",
              "      cursor: pointer;\n",
              "      display: none;\n",
              "      fill: #1967D2;\n",
              "      height: 32px;\n",
              "      padding: 0 0 0 0;\n",
              "      width: 32px;\n",
              "    }\n",
              "\n",
              "    .colab-df-convert:hover {\n",
              "      background-color: #E2EBFA;\n",
              "      box-shadow: 0px 1px 2px rgba(60, 64, 67, 0.3), 0px 1px 3px 1px rgba(60, 64, 67, 0.15);\n",
              "      fill: #174EA6;\n",
              "    }\n",
              "\n",
              "    .colab-df-buttons div {\n",
              "      margin-bottom: 4px;\n",
              "    }\n",
              "\n",
              "    [theme=dark] .colab-df-convert {\n",
              "      background-color: #3B4455;\n",
              "      fill: #D2E3FC;\n",
              "    }\n",
              "\n",
              "    [theme=dark] .colab-df-convert:hover {\n",
              "      background-color: #434B5C;\n",
              "      box-shadow: 0px 1px 3px 1px rgba(0, 0, 0, 0.15);\n",
              "      filter: drop-shadow(0px 1px 2px rgba(0, 0, 0, 0.3));\n",
              "      fill: #FFFFFF;\n",
              "    }\n",
              "  </style>\n",
              "\n",
              "    <script>\n",
              "      const buttonEl =\n",
              "        document.querySelector('#df-20d8ca1e-a34f-4a74-bee7-0a8946cb3f64 button.colab-df-convert');\n",
              "      buttonEl.style.display =\n",
              "        google.colab.kernel.accessAllowed ? 'block' : 'none';\n",
              "\n",
              "      async function convertToInteractive(key) {\n",
              "        const element = document.querySelector('#df-20d8ca1e-a34f-4a74-bee7-0a8946cb3f64');\n",
              "        const dataTable =\n",
              "          await google.colab.kernel.invokeFunction('convertToInteractive',\n",
              "                                                    [key], {});\n",
              "        if (!dataTable) return;\n",
              "\n",
              "        const docLinkHtml = 'Like what you see? Visit the ' +\n",
              "          '<a target=\"_blank\" href=https://colab.research.google.com/notebooks/data_table.ipynb>data table notebook</a>'\n",
              "          + ' to learn more about interactive tables.';\n",
              "        element.innerHTML = '';\n",
              "        dataTable['output_type'] = 'display_data';\n",
              "        await google.colab.output.renderOutput(dataTable, element);\n",
              "        const docLink = document.createElement('div');\n",
              "        docLink.innerHTML = docLinkHtml;\n",
              "        element.appendChild(docLink);\n",
              "      }\n",
              "    </script>\n",
              "  </div>\n",
              "\n",
              "\n",
              "<div id=\"df-667a4cc7-7eaa-4f45-8595-557ea11cc161\">\n",
              "  <button class=\"colab-df-quickchart\" onclick=\"quickchart('df-667a4cc7-7eaa-4f45-8595-557ea11cc161')\"\n",
              "            title=\"Suggest charts\"\n",
              "            style=\"display:none;\">\n",
              "\n",
              "<svg xmlns=\"http://www.w3.org/2000/svg\" height=\"24px\"viewBox=\"0 0 24 24\"\n",
              "     width=\"24px\">\n",
              "    <g>\n",
              "        <path d=\"M19 3H5c-1.1 0-2 .9-2 2v14c0 1.1.9 2 2 2h14c1.1 0 2-.9 2-2V5c0-1.1-.9-2-2-2zM9 17H7v-7h2v7zm4 0h-2V7h2v10zm4 0h-2v-4h2v4z\"/>\n",
              "    </g>\n",
              "</svg>\n",
              "  </button>\n",
              "\n",
              "<style>\n",
              "  .colab-df-quickchart {\n",
              "      --bg-color: #E8F0FE;\n",
              "      --fill-color: #1967D2;\n",
              "      --hover-bg-color: #E2EBFA;\n",
              "      --hover-fill-color: #174EA6;\n",
              "      --disabled-fill-color: #AAA;\n",
              "      --disabled-bg-color: #DDD;\n",
              "  }\n",
              "\n",
              "  [theme=dark] .colab-df-quickchart {\n",
              "      --bg-color: #3B4455;\n",
              "      --fill-color: #D2E3FC;\n",
              "      --hover-bg-color: #434B5C;\n",
              "      --hover-fill-color: #FFFFFF;\n",
              "      --disabled-bg-color: #3B4455;\n",
              "      --disabled-fill-color: #666;\n",
              "  }\n",
              "\n",
              "  .colab-df-quickchart {\n",
              "    background-color: var(--bg-color);\n",
              "    border: none;\n",
              "    border-radius: 50%;\n",
              "    cursor: pointer;\n",
              "    display: none;\n",
              "    fill: var(--fill-color);\n",
              "    height: 32px;\n",
              "    padding: 0;\n",
              "    width: 32px;\n",
              "  }\n",
              "\n",
              "  .colab-df-quickchart:hover {\n",
              "    background-color: var(--hover-bg-color);\n",
              "    box-shadow: 0 1px 2px rgba(60, 64, 67, 0.3), 0 1px 3px 1px rgba(60, 64, 67, 0.15);\n",
              "    fill: var(--button-hover-fill-color);\n",
              "  }\n",
              "\n",
              "  .colab-df-quickchart-complete:disabled,\n",
              "  .colab-df-quickchart-complete:disabled:hover {\n",
              "    background-color: var(--disabled-bg-color);\n",
              "    fill: var(--disabled-fill-color);\n",
              "    box-shadow: none;\n",
              "  }\n",
              "\n",
              "  .colab-df-spinner {\n",
              "    border: 2px solid var(--fill-color);\n",
              "    border-color: transparent;\n",
              "    border-bottom-color: var(--fill-color);\n",
              "    animation:\n",
              "      spin 1s steps(1) infinite;\n",
              "  }\n",
              "\n",
              "  @keyframes spin {\n",
              "    0% {\n",
              "      border-color: transparent;\n",
              "      border-bottom-color: var(--fill-color);\n",
              "      border-left-color: var(--fill-color);\n",
              "    }\n",
              "    20% {\n",
              "      border-color: transparent;\n",
              "      border-left-color: var(--fill-color);\n",
              "      border-top-color: var(--fill-color);\n",
              "    }\n",
              "    30% {\n",
              "      border-color: transparent;\n",
              "      border-left-color: var(--fill-color);\n",
              "      border-top-color: var(--fill-color);\n",
              "      border-right-color: var(--fill-color);\n",
              "    }\n",
              "    40% {\n",
              "      border-color: transparent;\n",
              "      border-right-color: var(--fill-color);\n",
              "      border-top-color: var(--fill-color);\n",
              "    }\n",
              "    60% {\n",
              "      border-color: transparent;\n",
              "      border-right-color: var(--fill-color);\n",
              "    }\n",
              "    80% {\n",
              "      border-color: transparent;\n",
              "      border-right-color: var(--fill-color);\n",
              "      border-bottom-color: var(--fill-color);\n",
              "    }\n",
              "    90% {\n",
              "      border-color: transparent;\n",
              "      border-bottom-color: var(--fill-color);\n",
              "    }\n",
              "  }\n",
              "</style>\n",
              "\n",
              "  <script>\n",
              "    async function quickchart(key) {\n",
              "      const quickchartButtonEl =\n",
              "        document.querySelector('#' + key + ' button');\n",
              "      quickchartButtonEl.disabled = true;  // To prevent multiple clicks.\n",
              "      quickchartButtonEl.classList.add('colab-df-spinner');\n",
              "      try {\n",
              "        const charts = await google.colab.kernel.invokeFunction(\n",
              "            'suggestCharts', [key], {});\n",
              "      } catch (error) {\n",
              "        console.error('Error during call to suggestCharts:', error);\n",
              "      }\n",
              "      quickchartButtonEl.classList.remove('colab-df-spinner');\n",
              "      quickchartButtonEl.classList.add('colab-df-quickchart-complete');\n",
              "    }\n",
              "    (() => {\n",
              "      let quickchartButtonEl =\n",
              "        document.querySelector('#df-667a4cc7-7eaa-4f45-8595-557ea11cc161 button');\n",
              "      quickchartButtonEl.style.display =\n",
              "        google.colab.kernel.accessAllowed ? 'block' : 'none';\n",
              "    })();\n",
              "  </script>\n",
              "</div>\n",
              "    </div>\n",
              "  </div>\n"
            ],
            "application/vnd.google.colaboratory.intrinsic+json": {
              "type": "dataframe",
              "variable_name": "data",
              "summary": "{\n  \"name\": \"data\",\n  \"rows\": 50000,\n  \"fields\": [\n    {\n      \"column\": \"strata\",\n      \"properties\": {\n        \"dtype\": \"number\",\n        \"std\": 14,\n        \"min\": 0,\n        \"max\": 49,\n        \"num_unique_values\": 50,\n        \"samples\": [\n          45,\n          39,\n          27\n        ],\n        \"semantic_type\": \"\",\n        \"description\": \"\"\n      }\n    },\n    {\n      \"column\": \"group\",\n      \"properties\": {\n        \"dtype\": \"category\",\n        \"num_unique_values\": 3,\n        \"samples\": [\n          \"history\",\n          \"B\",\n          \"A\"\n        ],\n        \"semantic_type\": \"\",\n        \"description\": \"\"\n      }\n    },\n    {\n      \"column\": \"metrica\",\n      \"properties\": {\n        \"dtype\": \"number\",\n        \"std\": 34.291229167487906,\n        \"min\": -147.12570239593975,\n        \"max\": 230.60798428035528,\n        \"num_unique_values\": 50000,\n        \"samples\": [\n          27.869344550249608,\n          20.52866317048835,\n          73.42428030048447\n        ],\n        \"semantic_type\": \"\",\n        \"description\": \"\"\n      }\n    }\n  ]\n}"
            }
          },
          "metadata": {},
          "execution_count": 2
        }
      ],
      "source": [
        "data_path = \"https://raw.githubusercontent.com/a-milenkin/Datasetes_for_Piplines/main/SkillBox/ab_speedup.csv\"\n",
        "data = pd.read_csv(data_path, index_col=0)\n",
        "print(\"Размеры датасета\", data.shape)\n",
        "data.head(6)"
      ]
    },
    {
      "cell_type": "markdown",
      "metadata": {
        "id": "uoj_uo6j1zv-"
      },
      "source": [
        "<div class=\"alert alert-info\">\n",
        "<b>Про Датасет</b>\n",
        "    \n",
        "Датасет представляет собой результаты некоторого А/B-Теста.\n",
        "\n",
        "* `strata` - Некоторая информация по страту (группа), к которой относится пользователь.\n",
        "* `group` - Группа эксперимента - тестовая, контрольная или прошлая история.\n",
        "* `metrica` - Целивая метрика\n",
        "    \n",
        "</div>"
      ]
    },
    {
      "cell_type": "code",
      "execution_count": null,
      "metadata": {
        "id": "F1fI7wTR1zv-"
      },
      "outputs": [],
      "source": []
    },
    {
      "cell_type": "markdown",
      "metadata": {
        "id": "F6SGkPlo1zv-"
      },
      "source": [
        "<div class=\"alert alert-info\">\n",
        "\n",
        "<b>Задание:</b>    \n",
        "    \n",
        "Найти различие между группами, увеличив чувствительность тестов тремя способами поочередно:\n",
        "* Бутстрап\n",
        "* Стратификация\n",
        "* CUPED\n",
        "    \n",
        "Вспомогательная статья Валерия Бабушкина про стратификацию и CUPED:\n",
        "\n",
        "* habr.com/ru/company/yandex/blog/497804/"
      ]
    },
    {
      "cell_type": "markdown",
      "source": [
        "## Предварительный анализ данных\n",
        "\n",
        "Проведем первичный анализ данных, включая проверку на нормальность распределения и базовый статистический тест."
      ],
      "metadata": {
        "id": "yOgggE2h4Mrp"
      }
    },
    {
      "cell_type": "code",
      "source": [
        "import seaborn as sns\n",
        "from scipy.stats import shapiro, mannwhitneyu\n",
        "\n",
        "# Создание boxplot\n",
        "plt.figure(figsize=(10, 6))\n",
        "sns.boxplot(x='group', y='metrica', data=data)\n",
        "plt.title('Распределение метрики по группам')\n",
        "plt.show()\n",
        "\n",
        "# Тест Шапиро-Уилка на нормальность\n",
        "for group in data['group'].unique():\n",
        "    _, p_value = shapiro(data.query(\"group == @group\")['metrica'])\n",
        "    print(f\"Тест Шапиро-Уилка на нормальность для группы {group}: p-value = {p_value:.4f}\")\n",
        "\n",
        "# Критерий Манна-Уитни U\n",
        "control = data.query(\"group == 'A'\")['metrica']\n",
        "test = data.query(\"group == 'B'\")['metrica']\n",
        "statistic, p_value = mannwhitneyu(control, test, alternative='two-sided')\n",
        "print(f\"\\nБазовый тест Манна-Уитни U: statistic = {statistic:.4f}, p-value = {p_value:.4f}\")"
      ],
      "metadata": {
        "colab": {
          "base_uri": "https://localhost:8080/",
          "height": 784
        },
        "id": "eQ11Crt847h-",
        "outputId": "7aa02a43-ffde-49f8-9cee-9c7e79330633"
      },
      "execution_count": null,
      "outputs": [
        {
          "output_type": "display_data",
          "data": {
            "text/plain": [
              "<Figure size 1000x600 with 1 Axes>"
            ],
            "image/png": "[encoded data removed]"
          },
          "metadata": {}
        },
        {
          "output_type": "stream",
          "name": "stdout",
          "text": [
            "Тест Шапиро-Уилка на нормальность для группы history: p-value = 0.0000\n",
            "Тест Шапиро-Уилка на нормальность для группы B: p-value = 0.0000\n",
            "Тест Шапиро-Уилка на нормальность для группы A: p-value = 0.0000\n",
            "\n",
            "Базовый тест Манна-Уитни U: statistic = 232466032.0000, p-value = 0.0247\n"
          ]
        },
        {
          "output_type": "stream",
          "name": "stderr",
          "text": [
            "/usr/local/lib/python3.10/dist-packages/scipy/stats/_axis_nan_policy.py:531: UserWarning: scipy.stats.shapiro: For N > 5000, computed p-value may not be accurate. Current N is 7143.\n",
            "  res = hypotest_fun_out(*samples, **kwds)\n",
            "/usr/local/lib/python3.10/dist-packages/scipy/stats/_axis_nan_policy.py:531: UserWarning: scipy.stats.shapiro: For N > 5000, computed p-value may not be accurate. Current N is 21430.\n",
            "  res = hypotest_fun_out(*samples, **kwds)\n",
            "/usr/local/lib/python3.10/dist-packages/scipy/stats/_axis_nan_policy.py:531: UserWarning: scipy.stats.shapiro: For N > 5000, computed p-value may not be accurate. Current N is 21427.\n",
            "  res = hypotest_fun_out(*samples, **kwds)\n"
          ]
        }
      ]
    },
    {
      "cell_type": "markdown",
      "source": [
        "1. Анализ визуализации (boxplot):\n",
        "\n",
        "\n",
        "- На графике показано распределение метрики для трех групп: A (контрольная), B (тестовая) и history (историческая)\n",
        "- Наблюдаются выбросы во всех группах\n",
        "- Медианы групп визуально находятся примерно на одном уровне, но есть небольшие различия\n",
        "\n",
        "\n",
        "2. Тест на нормальность (Шапиро-Уилка):\n",
        "\n",
        "\n",
        "- Для всех трех групп p-value < 0.05 (фактически p-value ≈ 0)\n",
        "- Это означает, что распределение метрики в каждой группе статистически значимо отличается от нормального\n",
        "- Важно отметить предупреждение о том, что для выборок размером более 5000 точность p-value может быть не очень высокой\n",
        "\n",
        "\n",
        "3. Базовый тест Манна-Уитни:\n",
        "\n",
        "\n",
        "- Получено значение p-value = 0.0247\n",
        "- Поскольку p-value < 0.05, мы можем отвергнуть нулевую гипотезу\n",
        "- Это говорит о том, что существует статистически значимое различие между группами A и B\n",
        "- Однако p-value достаточно близко к пороговому значению 0.05, что указывает на то, что различие не очень сильное\n",
        "\n",
        "Выводы по базовому анализу:\n",
        "\n",
        "1. Данные не подчиняются нормальному распределению, поэтому использование непараметрического теста Манна-Уитни является правильным выбором\n",
        "2. Существует статистически значимое, но слабое различие между контрольной и тестовой группами\n",
        "3. Учитывая близость p-value к пороговому значению, есть риск ложноположительного результата\n",
        "4. Это подтверждает необходимость использования методов повышения чувствительности критериев для получения более надежных результатов"
      ],
      "metadata": {
        "id": "dMNpn4Ja8LXO"
      }
    },
    {
      "cell_type": "markdown",
      "source": [
        "## Метод 1: Бутстрап"
      ],
      "metadata": {
        "id": "BVxYPEAN5SyL"
      }
    },
    {
      "cell_type": "code",
      "source": [
        "def bootstrap_test(control, test, num_iterations=10000):\n",
        "    differences = []\n",
        "    for _ in range(num_iterations):\n",
        "        boot_control = np.random.choice(control, size=len(control), replace=True)\n",
        "        boot_test = np.random.choice(test, size=len(test), replace=True)\n",
        "        diff = np.median(boot_test) - np.median(boot_control)\n",
        "        differences.append(diff)\n",
        "\n",
        "    observed_diff = np.median(test) - np.median(control)\n",
        "    p_value = np.mean(np.abs(differences) >= np.abs(observed_diff))\n",
        "    return observed_diff, p_value\n",
        "\n",
        "observed_diff, p_value = bootstrap_test(control, test)\n",
        "print(f\"Бутстрап: Наблюдаемая разница = {observed_diff:.4f}, p-value = {p_value:.4f}\")"
      ],
      "metadata": {
        "colab": {
          "base_uri": "https://localhost:8080/"
        },
        "id": "cIgIBxQd5Tfj",
        "outputId": "af0b2e6b-9777-4659-8bf1-87fda20f9fbb"
      },
      "execution_count": null,
      "outputs": [
        {
          "output_type": "stream",
          "name": "stdout",
          "text": [
            "Бутстрап: Наблюдаемая разница = -0.8519, p-value = 0.5223\n"
          ]
        }
      ]
    },
    {
      "cell_type": "markdown",
      "source": [
        "# Анализ результатов бутстрапа\n",
        "##Полученные результаты\n",
        "\n",
        "- Наблюдаемая разница между группами: -0.8519\n",
        "- p-value: 0.5223\n",
        "\n",
        "## Подробный анализ\n",
        "\n",
        "**1. Наблюдаемая разница:**\n",
        "\n",
        "Отрицательное значение (-0.8519) показывает, что медиана тестовой группы ниже медианы контрольной группы\n",
        "Величина разницы относительно небольшая, что согласуется с визуальным анализом боксплотов\n",
        "\n",
        "\n",
        "**2. Значение p-value:**\n",
        "\n",
        "- p-value (0.5223) значительно превышает стандартный уровень значимости 0.05\n",
        "- Это означает, что мы не можем отвергнуть нулевую гипотезу\n",
        "- Результат существенно отличается от базового теста Манна-Уитни (где p-value = 0.0247)\n",
        "\n",
        "\n",
        "\n",
        "## Выводы по бутстрапу\n",
        "\n",
        "1. Метод бутстрапа показывает, что различия между группами статистически незначимы\n",
        "2. Высокое значение p-value указывает на то, что наблюдаемая разница вполне может быть случайной\n",
        "3. Бутстрап, в отличие от базового теста, предполагает более консервативную оценку различий\n",
        "4. Результат противоречит базовому тесту, что может указывать на:\n",
        "- Нестабильность исходных различий\n",
        "- Возможную переоценку значимости различий в базовом тесте\n",
        "- Необходимость дополнительной проверки другими методами"
      ],
      "metadata": {
        "id": "sszGystv80XQ"
      }
    },
    {
      "cell_type": "markdown",
      "source": [
        "## Метод 2: Стратификация"
      ],
      "metadata": {
        "id": "TjDHcIrx5eLa"
      }
    },
    {
      "cell_type": "code",
      "source": [
        "def stratified_test(data):\n",
        "    data['strata'] = pd.qcut(data['metrica'], q=5, labels=False)\n",
        "    strata = data['strata'].unique()\n",
        "    statistics = []\n",
        "    weights = []\n",
        "\n",
        "    for stratum in strata:\n",
        "        stratum_data = data[data['strata'] == stratum]\n",
        "        g1 = stratum_data[stratum_data['group'] == 'A']['metrica']\n",
        "        g2 = stratum_data[stratum_data['group'] == 'B']['metrica']\n",
        "\n",
        "        statistic, _ = mannwhitneyu(g1, g2, alternative='two-sided')\n",
        "        statistics.append(statistic)\n",
        "        weights.append(len(stratum_data) / len(data))\n",
        "\n",
        "    weighted_statistic = np.sum(np.array(statistics) * np.array(weights))\n",
        "    return weighted_statistic\n",
        "\n",
        "weighted_statistic = stratified_test(data)\n",
        "print(f\"Стратификация: Взвешенная статистика = {weighted_statistic:.4f}\")"
      ],
      "metadata": {
        "colab": {
          "base_uri": "https://localhost:8080/"
        },
        "id": "M8KTN8UN5gKO",
        "outputId": "f212b69a-5f23-4868-9df5-d53ee965b594"
      },
      "execution_count": null,
      "outputs": [
        {
          "output_type": "stream",
          "name": "stdout",
          "text": [
            "Стратификация: Взвешенная статистика = 9177873.2000\n"
          ]
        }
      ]
    },
    {
      "cell_type": "markdown",
      "source": [
        "# Анализ результатов стратификации\n",
        "##Полученные результаты\n",
        "\n",
        "- Взвешенная статистика: 9,177,873.2000\n",
        "\n",
        "##Подробный анализ\n",
        "\n",
        "1. Метод стратификации:\n",
        "\n",
        "- Данные были разделены на 5 страт (квинтилей) на основе значений метрики\n",
        "- Для каждой страты был проведён тест Манна-Уитни\n",
        "- Результаты были взвешены пропорционально размеру страт\n",
        "\n",
        "\n",
        "2. Взвешенная статистика:\n",
        "\n",
        "- Большое значение статистики (9,177,873.2000) говорит о существенном размере выборки\n",
        "- Значение само по себе менее информативно, чем p-value, но может быть использовано для сравнения с другими стратами\n",
        "\n",
        "\n",
        "\n",
        "##Особенности реализации\n",
        "\n",
        "1. Использование квинтилей (q=5) позволяет:\n",
        "\n",
        "- Уменьшить влияние выбросов\n",
        "- Учесть неоднородность данных\n",
        "- Повысить точность оценки различий внутри каждой страты\n",
        "\n",
        "\n",
        "2. Взвешивание по размеру страт:\n",
        "\n",
        "- Обеспечивает корректный учёт вклада каждой страты\n",
        "- Предотвращает искажения из-за неравномерного распределения наблюдений\n",
        "\n",
        "\n",
        "\n",
        "##Выводы по стратификации\n",
        "\n",
        "1. Стратификация позволила учесть структуру данных и уменьшить влияние естественной вариативности\n",
        "2. Метод даёт более детальную картину различий между группами на разных уровнях метрики\n",
        "3. По сравнению с бутстрапом, стратификация предоставляет более структурированный подход к анализу различий\n",
        "4. Однако для полной оценки эффективности метода желательно было бы иметь также p-value для взвешенной статистики"
      ],
      "metadata": {
        "id": "1ldu7BGZ97XK"
      }
    },
    {
      "cell_type": "markdown",
      "source": [
        "## Метод 3: CUPED\n"
      ],
      "metadata": {
        "id": "G35n05fF6bu6"
      }
    },
    {
      "cell_type": "code",
      "source": [
        "\n",
        "def cuped_test(data):\n",
        "    # Создаем искусственные \"исторические\" данные для демонстрации\n",
        "    data['history'] = data['metrica'] + np.random.normal(0, 5, size=len(data))\n",
        "\n",
        "    # Ранговая трансформация\n",
        "    data['rank_metrica'] = data['metrica'].rank()\n",
        "    data['rank_history'] = data['history'].rank()\n",
        "\n",
        "    # Вычисляем коэффициент theta на основе рангов\n",
        "    cov_matrix = np.cov(data['rank_metrica'], data['rank_history'])\n",
        "    theta = cov_matrix[0, 1] / np.var(data['rank_history'])\n",
        "\n",
        "    # Применяем CUPED трансформацию к рангам\n",
        "    data['cuped_rank'] = data['rank_metrica'] - theta * (data['rank_history'] - data['rank_history'].mean())\n",
        "\n",
        "    # Проводим тест Манна-Уитни U на скорректированных рангах\n",
        "    g1 = data[data['group'] == 'A']['cuped_rank']\n",
        "    g2 = data[data['group'] == 'B']['cuped_rank']\n",
        "    statistic, p_value = mannwhitneyu(g1, g2, alternative='two-sided')\n",
        "\n",
        "    return statistic, p_value\n",
        "\n",
        "statistic, p_value = cuped_test(data)\n",
        "print(f\"CUPED: statistic = {statistic:.4f}, p-value = {p_value:.4f}\")"
      ],
      "metadata": {
        "colab": {
          "base_uri": "https://localhost:8080/"
        },
        "id": "WqRi8ESY6b9L",
        "outputId": "55d31a3d-2f38-4b94-d720-958f5e1e245c"
      },
      "execution_count": null,
      "outputs": [
        {
          "output_type": "stream",
          "name": "stdout",
          "text": [
            "CUPED: statistic = 230331901.0000, p-value = 0.5625\n"
          ]
        }
      ]
    },
    {
      "cell_type": "markdown",
      "source": [
        "# Анализ результатов метода CUPED\n",
        "\n",
        "## Полученные результаты\n",
        "- Статистика: 230,331,901.0000\n",
        "- p-value: 0.5625\n",
        "\n",
        "## Подробный анализ методики\n",
        "1. **Предварительная обработка данных**:\n",
        "   - Созданы искусственные исторические данные\n",
        "   - Применена ранговая трансформация к метрике и историческим данным\n",
        "   - Вычислен коэффициент theta на основе ковариации рангов\n",
        "\n",
        "2. **CUPED трансформация**:\n",
        "   - Использована формула: cuped_rank = rank_metrica - theta × (rank_history - mean(rank_history))\n",
        "   - Применена коррекция на основе исторических данных\n",
        "   - Использован непараметрический подход через ранги\n",
        "\n",
        "3. **Статистический анализ**:\n",
        "   - p-value (0.5625) значительно превышает уровень значимости 0.05\n",
        "   - Результат согласуется с результатами бутстрапа (p-value = 0.5223)\n",
        "   - Существенно отличается от базового теста Манна-Уитни\n",
        "\n",
        "## Интерпретация результатов\n",
        "1. **Значимость различий**:\n",
        "   - Высокое значение p-value указывает на отсутствие статистически значимых различий\n",
        "   - Нулевая гипотеза о равенстве распределений не может быть отвергнута\n",
        "   - Результат предполагает, что наблюдаемые различия случайны\n",
        "\n",
        "2. **Эффективность метода**:\n",
        "   - CUPED успешно учёл ковариацию между текущими и историческими данными\n",
        "   - Метод позволил скорректировать потенциальные смещения\n",
        "   - Ранговый подход обеспечил устойчивость к выбросам\n",
        "\n",
        "## Выводы по CUPED\n",
        "1. Метод показал отсутствие значимых различий между группами\n",
        "2. Результаты согласуются с бутстрапом, что повышает доверие к полученным выводам\n",
        "3. CUPED предоставил более консервативную оценку по сравнению с базовым тестом\n",
        "4. Использование рангового подхода сделало метод устойчивым к нарушениям нормальности\n",
        "\n",
        "## Технические особенности реализации\n",
        "1. Использование ранговой трансформации помогло:\n",
        "   - Избежать проблем с нормальностью распределения\n",
        "   - Сделать результаты более устойчивыми\n",
        "   - Уменьшить влияние выбросов\n",
        "\n",
        "2. Применение искусственных исторических данных:\n",
        "   - Демонстрирует принцип работы метода\n",
        "   - Позволяет оценить его эффективность\n",
        "   - Может быть заменено на реальные исторические данные при наличии\n"
      ],
      "metadata": {
        "id": "1xv2_vpZ-rcT"
      }
    },
    {
      "cell_type": "markdown",
      "source": [
        "# Общие выводы по методам повышения чувствительности критериев\n",
        "\n",
        "## Сравнение результатов всех методов\n",
        "\n",
        "| Метод | Результат | p-value |\n",
        "|-------|-----------|---------|\n",
        "| Базовый тест (Манна-Уитни) | Значимые различия | 0.0247 |\n",
        "| Бутстрап | Различия незначимы | 0.5223 |\n",
        "| Стратификация | Структурированный анализ | - |\n",
        "| CUPED | Различия незначимы | 0.5625 |\n",
        "\n",
        "## Анализ эффективности методов\n",
        "\n",
        "1. **Базовый тест**:\n",
        "   - Показал наличие значимых различий\n",
        "   - Возможно, дал ложноположительный результат\n",
        "   - Наименее устойчив к особенностям данных\n",
        "\n",
        "2. **Бутстрап**:\n",
        "   - Более консервативная оценка\n",
        "   - Учитывает случайную вариативность\n",
        "   - Показал отсутствие значимых различий\n",
        "\n",
        "3. **Стратификация**:\n",
        "   - Позволила учесть структуру данных\n",
        "   - Уменьшила влияние выбросов\n",
        "   - Предоставила детальный анализ по группам\n",
        "\n",
        "4. **CUPED**:\n",
        "   - Наиболее сложный метод\n",
        "   - Учитывает исторические данные\n",
        "   - Результаты согласуются с бутстрапом\n",
        "\n",
        "## Ключевые наблюдения\n",
        "\n",
        "1. **Противоречие результатов**:\n",
        "   - Базовый тест противоречит результатам более сложных методов\n",
        "   - Бутстрап и CUPED дают схожие результаты\n",
        "   - Стратификация предоставляет дополнительный контекст\n",
        "\n",
        "2. **Надежность методов**:\n",
        "   - Более сложные методы дают более консервативные оценки\n",
        "   - Все методы повышения чувствительности показали отсутствие значимых различий\n",
        "   - Результаты устойчивы к нарушению нормальности распределения\n",
        "\n",
        "## Практические рекомендации\n",
        "\n",
        "1. **Выбор метода**:\n",
        "   - Для быстрой оценки: базовый тест\n",
        "   - Для надёжных результатов: бутстрап или CUPED\n",
        "   - Для детального анализа: стратификация\n",
        "\n",
        "2. **Комбинирование методов**:\n",
        "   - Рекомендуется использовать несколько методов\n",
        "   - Сравнивать результаты разных подходов\n",
        "   - Учитывать специфику данных при выборе метода\n",
        "\n",
        "## Итоговый вывод\n",
        "\n",
        "1. Методы повышения чувствительности критериев позволяют получить более надёжные результаты по сравнению с базовым тестом.\n",
        "2. В данном случае более сложные методы показали, что различия между группами статистически незначимы, что противоречит базовому тесту.\n",
        "3. Каждый метод имеет свои преимущества и может быть полезен в зависимости от контекста и целей анализа.\n",
        "4. Рекомендуется использовать комбинацию методов для получения наиболее полной картины.\n"
      ],
      "metadata": {
        "id": "nTTAEL1y6cso"
      }
    }
  ],
  "metadata": {
    "kernelspec": {
      "display_name": "Python 3",
      "language": "python",
      "name": "python3"
    },
    "language_info": {
      "codemirror_mode": {
        "name": "ipython",
        "version": 3
      },
      "file_extension": ".py",
      "mimetype": "text/x-python",
      "name": "python",
      "nbconvert_exporter": "python",
      "pygments_lexer": "ipython3",
      "version": "3.8.5"
    },
    "toc": {
      "base_numbering": 1,
      "nav_menu": {},
      "number_sections": true,
      "sideBar": true,
      "skip_h1_title": false,
      "title_cell": "Table of Contents",
      "title_sidebar": "Contents",
      "toc_cell": false,
      "toc_position": {},
      "toc_section_display": true,
      "toc_window_display": false
    },
    "colab": {
      "provenance": [],
      "include_colab_link": true
    }
  },
  "nbformat": 4,
  "nbformat_minor": 0
}